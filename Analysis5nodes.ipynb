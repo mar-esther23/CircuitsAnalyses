{
 "cells": [
  {
   "cell_type": "markdown",
   "metadata": {},
   "source": [
    "# Network of networks\n",
    "\n",
    "Networks where created, this networks have topologies and functions. The topological and dynamic distance was compared.\n",
    "\n",
    "Each network has a name that corresponds to: \n",
    "* MOTIF: motif of network\n",
    "* ID, ID: parameter of order\n",
    "* MODEL: Number of model/function\n",
    "\n",
    "Only comparisons between different networks where taken into account."
   ]
  },
  {
   "cell_type": "code",
   "execution_count": 1,
   "metadata": {
    "collapsed": true
   },
   "outputs": [],
   "source": [
    "# Import\n",
    "import numpy as np\n",
    "import pandas as pd\n",
    "import matplotlib.pyplot as plt\n",
    "%matplotlib inline  "
   ]
  },
  {
   "cell_type": "markdown",
   "metadata": {},
   "source": [
    "## Funtional Loops\n",
    "\n",
    "Distribution of fun_loops by motif\n",
    "\n",
    "    C GEN4 +\n",
    "    D GEN3 +\n",
    "    E GEN3 + GEN4 +\n",
    "    F GEN3 GEN4 + GEN3 +\n",
    "    G GEN3 GEN4 - GEN3 +\n",
    "    H GEN3 GEN4 + GEN4 +\n",
    "    I GEN3 GEN4 - GEN4 +\n",
    "    J GEN1 GEN2 - GEN1 +"
   ]
  },
  {
   "cell_type": "code",
   "execution_count": 2,
   "metadata": {
    "collapsed": false
   },
   "outputs": [
    {
     "data": {
      "text/html": [
       "<div>\n",
       "<table border=\"1\" class=\"dataframe\">\n",
       "  <thead>\n",
       "    <tr style=\"text-align: right;\">\n",
       "      <th></th>\n",
       "      <th>C</th>\n",
       "      <th>D</th>\n",
       "      <th>E</th>\n",
       "      <th>F</th>\n",
       "      <th>G</th>\n",
       "      <th>H</th>\n",
       "      <th>I</th>\n",
       "      <th>J</th>\n",
       "    </tr>\n",
       "  </thead>\n",
       "  <tbody>\n",
       "    <tr>\n",
       "      <th>1</th>\n",
       "      <td>184</td>\n",
       "      <td>172</td>\n",
       "      <td>8</td>\n",
       "      <td>8</td>\n",
       "      <td>8</td>\n",
       "      <td>20</td>\n",
       "      <td>20</td>\n",
       "      <td>16</td>\n",
       "    </tr>\n",
       "    <tr>\n",
       "      <th>2</th>\n",
       "      <td>184</td>\n",
       "      <td>172</td>\n",
       "      <td>8</td>\n",
       "      <td>8</td>\n",
       "      <td>8</td>\n",
       "      <td>20</td>\n",
       "      <td>20</td>\n",
       "      <td>16</td>\n",
       "    </tr>\n",
       "    <tr>\n",
       "      <th>3</th>\n",
       "      <td>188</td>\n",
       "      <td>180</td>\n",
       "      <td>8</td>\n",
       "      <td>8</td>\n",
       "      <td>8</td>\n",
       "      <td>20</td>\n",
       "      <td>20</td>\n",
       "      <td>16</td>\n",
       "    </tr>\n",
       "    <tr>\n",
       "      <th>4</th>\n",
       "      <td>188</td>\n",
       "      <td>180</td>\n",
       "      <td>8</td>\n",
       "      <td>8</td>\n",
       "      <td>8</td>\n",
       "      <td>20</td>\n",
       "      <td>20</td>\n",
       "      <td>16</td>\n",
       "    </tr>\n",
       "  </tbody>\n",
       "</table>\n",
       "</div>"
      ],
      "text/plain": [
       "     C    D  E  F  G   H   I   J\n",
       "1  184  172  8  8  8  20  20  16\n",
       "2  184  172  8  8  8  20  20  16\n",
       "3  188  180  8  8  8  20  20  16\n",
       "4  188  180  8  8  8  20  20  16"
      ]
     },
     "execution_count": 2,
     "metadata": {},
     "output_type": "execute_result"
    }
   ],
   "source": [
    "loops = []\n",
    "df_loops = pd.DataFrame(index=[1,2,3,4], columns=['C','D','E','F','G','H','I','J'])\n",
    "df_loops = df_loops.fillna(0)\n",
    "with open(\"5nodos/Loops_Functionality.csv\") as f:\n",
    "    for line in f.readlines(): \n",
    "        line = line.strip().split(',')\n",
    "        if line[-1] != '': \n",
    "            loops.append(   (line[0], line[1])   )\n",
    "            m = int(line[0][0])\n",
    "            df_loops[line[1]][m] += 1    \n",
    "df_loops"
   ]
  },
  {
   "cell_type": "markdown",
   "metadata": {},
   "source": [
    "Este patrón esta raro, por que todos los motifs tienen una distribución similar de loops funcionales, para 3 nodos no fue asi. "
   ]
  },
  {
   "cell_type": "markdown",
   "metadata": {},
   "source": [
    "## Distance distribution\n",
    "\n",
    "Distribution of topological distances"
   ]
  },
  {
   "cell_type": "markdown",
   "metadata": {
    "collapsed": true
   },
   "source": [
    "Create histograms"
   ]
  },
  {
   "cell_type": "code",
   "execution_count": 3,
   "metadata": {
    "collapsed": false,
    "scrolled": true
   },
   "outputs": [
    {
     "name": "stdout",
     "output_type": "stream",
     "text": [
      " \n"
     ]
    }
   ],
   "source": [
    "#d_top = {}\n",
    "#d_dyn = {}\n",
    "#d_vs_d = {}\n",
    "\n",
    "#with open(\"5nodos/crossdistances.out\") as f:\n",
    "#    for line in f:\n",
    "#        line = line.strip().split(',')\n",
    "#        if line[2] in d_top: d_top[line[2]] += 1\n",
    "#        else: d_top[line[2]] = 1\n",
    "#        if line[3] in d_dyn: d_dyn[line[3]] += 1\n",
    "#        else: d_dyn[line[3]] = 1\n",
    "#        if (line[2], line[3]) in d_vs_d: d_vs_d[(line[2], line[3])] += 1\n",
    "#        else: d_vs_d[(line[2], line[3])] = 1\n",
    "with open(\"5nodos/res5nodos.dat\") as f:\n",
    "    for line in f: exec(line)\n",
    "\n",
    "sorted(d_top, key=lambda key:d_top[key])\n",
    "sorted(d_dyn, key=lambda key:d_dyn[key])\n",
    "sorted(d_vs_d, key=lambda key:d_vs_d[key])\n",
    "\n",
    "print(' ')\n"
   ]
  },
  {
   "cell_type": "code",
   "execution_count": 4,
   "metadata": {
    "collapsed": false,
    "scrolled": false
   },
   "outputs": [
    {
     "data": {
      "image/png": "[encoded data removed]",
      "text/plain": [
       "<matplotlib.figure.Figure at 0xaa59512c>"
      ]
     },
     "metadata": {},
     "output_type": "display_data"
    }
   ],
   "source": [
    "plt.bar(list(d_top.keys()), list(d_top.values()), color='g' )\n",
    "plt.title(\"Topological distance\")\n",
    "plt.xlabel(\"Distance\")\n",
    "plt.ylabel(\"Frequency\")\n",
    "plt.show()"
   ]
  },
  {
   "cell_type": "code",
   "execution_count": 5,
   "metadata": {
    "collapsed": false,
    "scrolled": true
   },
   "outputs": [
    {
     "data": {
      "image/png": "[encoded data removed]",
      "text/plain": [
       "<matplotlib.figure.Figure at 0xaa59ed0c>"
      ]
     },
     "metadata": {},
     "output_type": "display_data"
    }
   ],
   "source": [
    "plt.bar(list(d_dyn.keys()), list(d_dyn.values()), width=1, color='b' )\n",
    "plt.title(\"Dynamical distance\")\n",
    "plt.xlabel(\"Distance\")\n",
    "plt.ylabel(\"Frequency\")\n",
    "plt.show()"
   ]
  },
  {
   "cell_type": "code",
   "execution_count": 6,
   "metadata": {
    "collapsed": false
   },
   "outputs": [
    {
     "data": {
      "image/png": "[encoded data removed]",
      "text/plain": [
       "<matplotlib.figure.Figure at 0xaa4bcc8c>"
      ]
     },
     "metadata": {},
     "output_type": "display_data"
    }
   ],
   "source": [
    "x = [d[0] for d in d_vs_d.keys()]\n",
    "y = [d[1] for d in d_vs_d.keys()]\n",
    "plt.plot(x, y, 'ro')\n",
    "plt.title(\"Distance\")\n",
    "plt.xlabel(\"Topological distance\")\n",
    "plt.ylabel(\"Dynamical distance\")\n",
    "plt.show()"
   ]
  },
  {
   "cell_type": "markdown",
   "metadata": {},
   "source": [
    "## Network"
   ]
  },
  {
   "cell_type": "markdown",
   "metadata": {},
   "source": [
    "Separate d_top = 0"
   ]
  },
  {
   "cell_type": "markdown",
   "metadata": {},
   "source": [
    "## Dendogram\n",
    "\n",
    "Clustering!\n",
    "\n",
    "First, lets get the matrixes and remove nans. The matrixes are in the order of G.nodes()"
   ]
  }
 ],
 "metadata": {
  "kernelspec": {
   "display_name": "Python 3",
   "language": "python",
   "name": "python3"
  },
  "language_info": {
   "codemirror_mode": {
    "name": "ipython",
    "version": 3
   },
   "file_extension": ".py",
   "mimetype": "text/x-python",
   "name": "python",
   "nbconvert_exporter": "python",
   "pygments_lexer": "ipython3",
   "version": "3.4.3"
  }
 },
 "nbformat": 4,
 "nbformat_minor": 0
}
