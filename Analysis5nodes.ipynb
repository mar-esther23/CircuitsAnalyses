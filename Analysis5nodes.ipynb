{
 "cells": [
  {
   "cell_type": "markdown",
   "metadata": {},
   "source": [
    "# Network of networks\n",
    "\n",
    "Networks where created, this networks have topologies and functions. The topological and dynamic distance was compared.\n",
    "\n",
    "Each network has a name that corresponds to: \n",
    "* MOTIF: motif of network\n",
    "* ID, ID: parameter of order\n",
    "* MODEL: Number of model/function\n",
    "\n",
    "Only comparisons between different networks where taken into account."
   ]
  },
  {
   "cell_type": "code",
   "execution_count": 1,
   "metadata": {
    "collapsed": true
   },
   "outputs": [],
   "source": [
    "# Import\n",
    "import numpy as np\n",
    "import pandas as pd\n",
    "import matplotlib.pyplot as plt\n",
    "%matplotlib inline  "
   ]
  },
  {
   "cell_type": "markdown",
   "metadata": {},
   "source": [
    "## Funtional Loops\n",
    "\n",
    "Distribution of fun_loops by motif\n",
    "\n",
    "    C GEN4 +\n",
    "    D GEN3 +\n",
    "    E GEN3 + GEN4 +\n",
    "    F GEN3 GEN4 + GEN3 +\n",
    "    G GEN3 GEN4 - GEN3 +\n",
    "    H GEN3 GEN4 + GEN4 +\n",
    "    I GEN3 GEN4 - GEN4 +\n",
    "    J GEN1 GEN2 - GEN1 +"
   ]
  },
  {
   "cell_type": "code",
   "execution_count": 2,
   "metadata": {
    "collapsed": false
   },
   "outputs": [
    {
     "data": {
      "text/html": [
       "<div>\n",
       "<table border=\"1\" class=\"dataframe\">\n",
       "  <thead>\n",
       "    <tr style=\"text-align: right;\">\n",
       "      <th></th>\n",
       "      <th>C</th>\n",
       "      <th>D</th>\n",
       "      <th>E</th>\n",
       "      <th>F</th>\n",
       "      <th>G</th>\n",
       "      <th>H</th>\n",
       "      <th>I</th>\n",
       "      <th>J</th>\n",
       "    </tr>\n",
       "  </thead>\n",
       "  <tbody>\n",
       "    <tr>\n",
       "      <th>1</th>\n",
       "      <td>184</td>\n",
       "      <td>172</td>\n",
       "      <td>8</td>\n",
       "      <td>8</td>\n",
       "      <td>8</td>\n",
       "      <td>20</td>\n",
       "      <td>20</td>\n",
       "      <td>16</td>\n",
       "    </tr>\n",
       "    <tr>\n",
       "      <th>2</th>\n",
       "      <td>184</td>\n",
       "      <td>172</td>\n",
       "      <td>8</td>\n",
       "      <td>8</td>\n",
       "      <td>8</td>\n",
       "      <td>20</td>\n",
       "      <td>20</td>\n",
       "      <td>16</td>\n",
       "    </tr>\n",
       "    <tr>\n",
       "      <th>3</th>\n",
       "      <td>188</td>\n",
       "      <td>180</td>\n",
       "      <td>8</td>\n",
       "      <td>8</td>\n",
       "      <td>8</td>\n",
       "      <td>20</td>\n",
       "      <td>20</td>\n",
       "      <td>16</td>\n",
       "    </tr>\n",
       "    <tr>\n",
       "      <th>4</th>\n",
       "      <td>188</td>\n",
       "      <td>180</td>\n",
       "      <td>8</td>\n",
       "      <td>8</td>\n",
       "      <td>8</td>\n",
       "      <td>20</td>\n",
       "      <td>20</td>\n",
       "      <td>16</td>\n",
       "    </tr>\n",
       "  </tbody>\n",
       "</table>\n",
       "</div>"
      ],
      "text/plain": [
       "     C    D  E  F  G   H   I   J\n",
       "1  184  172  8  8  8  20  20  16\n",
       "2  184  172  8  8  8  20  20  16\n",
       "3  188  180  8  8  8  20  20  16\n",
       "4  188  180  8  8  8  20  20  16"
      ]
     },
     "execution_count": 2,
     "metadata": {},
     "output_type": "execute_result"
    }
   ],
   "source": [
    "loops = []\n",
    "with open(\"5nodos/Loops_Functionality.csv\") as f:\n",
    "    for line in f.readlines(): \n",
    "        line = line.strip().split(',')\n",
    "        if line[-1] != '': loops.append(   (line[0][0], line[1])   )\n",
    "\n",
    "loops = [( s[0], s[1], loops.count(s) ) for s in set(loops)]\n",
    "df_loops = pd.DataFrame(index=[1,2,3,4], columns=['C','D','E','F','G','H','I','J'])\n",
    "for m,f,c in loops: \n",
    "    df_loops[f][int(m)]=c\n",
    "loops = df_loops\n",
    "loops\n"
   ]
  },
  {
   "cell_type": "markdown",
   "metadata": {},
   "source": [
    "## Distance distribution\n",
    "\n",
    "Distribution of topological distances"
   ]
  },
  {
   "cell_type": "markdown",
   "metadata": {
    "collapsed": true
   },
   "source": [
    "Create histograms"
   ]
  },
  {
   "cell_type": "markdown",
   "metadata": {},
   "source": [
    "## Network"
   ]
  },
  {
   "cell_type": "markdown",
   "metadata": {},
   "source": [
    "Separate d_top = 0"
   ]
  },
  {
   "cell_type": "markdown",
   "metadata": {},
   "source": [
    "## Dendogram\n",
    "\n",
    "Clustering!\n",
    "\n",
    "First, lets get the matrixes and remove nans. The matrixes are in the order of G.nodes()"
   ]
  }
 ],
 "metadata": {
  "kernelspec": {
   "display_name": "Python 3",
   "language": "python",
   "name": "python3"
  },
  "language_info": {
   "codemirror_mode": {
    "name": "ipython",
    "version": 3
   },
   "file_extension": ".py",
   "mimetype": "text/x-python",
   "name": "python",
   "nbconvert_exporter": "python",
   "pygments_lexer": "ipython3",
   "version": "3.4.3"
  }
 },
 "nbformat": 4,
 "nbformat_minor": 0
}
