{
 "cells": [
  {
   "cell_type": "markdown",
   "metadata": {},
   "source": [
    "# Network of networks\n",
    "\n",
    "Networks where created, this networks have topologies and functions. The topological and dynamic distance was compared.\n",
    "\n",
    "Each network has a name that corresponds to: \n",
    "* MOTIF: motif of network\n",
    "* ID, ID: parameter of order\n",
    "* MODEL: Number of model/function\n",
    "\n",
    "Only comparisons between different networks where taken into account."
   ]
  },
  {
   "cell_type": "code",
   "execution_count": null,
   "metadata": {
    "collapsed": true
   },
   "outputs": [],
   "source": [
    "# Import\n",
    "import numpy as np\n",
    "import matplotlib.pyplot as plt\n",
    "%matplotlib inline  "
   ]
  },
  {
   "cell_type": "markdown",
   "metadata": {
    "collapsed": true
   },
   "source": [
    "Load data. The data is a list of edges with topological and dynamical distance."
   ]
  },
  {
   "cell_type": "code",
   "execution_count": null,
   "metadata": {
    "collapsed": false,
    "scrolled": true
   },
   "outputs": [],
   "source": [
    "# Load data\n",
    "data = np.genfromtxt('distancias3nodos.csv', delimiter=',', dtype=np.int32)\n",
    "# remove header\n",
    "data = np.delete(data, 0, 0)"
   ]
  },
  {
   "cell_type": "markdown",
   "metadata": {},
   "source": [
    "We will add a motif edge index and a color\n",
    "1. m1-m1 blue\n",
    "2. m1-m2 'cyan'\n",
    "3. m1-m3 'DeepPink'\n",
    "4. m1-m4 'magenta'\n",
    "5. m2-m2 'green'\n",
    "6. m2-m3 'Brown'\n",
    "7. m2-m4 'Olive'\n",
    "8. m3-m3 'Orange'\n",
    "9. m3-m4 'OrangeRed'\n",
    "10. m4-m4 'red'\n"
   ]
  },
  {
   "cell_type": "code",
   "execution_count": null,
   "metadata": {
    "collapsed": false
   },
   "outputs": [],
   "source": [
    "def edges2index( data ):\n",
    "    index = [str(d[0]) + str(d[1]) for d in data ]\n",
    "    index = [d[0]+d[4]+d[1]+d[5]+d[2]+d[6]+d[3]+d[7] for d in index ]\n",
    "    index = [int(d) for d in index]\n",
    "    return index\n",
    "\n",
    "def edges2motifcolor( data ):\n",
    "    color = []\n",
    "    for d in data:\n",
    "        i = int(str(d[0])[0] + str(d[1])[0])\n",
    "        if i == 11: color.append('blue')\n",
    "        if i == 12: color.append('cyan')\n",
    "        if i == 13: color.append('deeppink')\n",
    "        if i == 14: color.append('m')\n",
    "        if i == 22: color.append('green')\n",
    "        if i == 23: color.append('brown')\n",
    "        if i == 24: color.append('olive')\n",
    "        if i == 33: color.append('orange')\n",
    "        if i == 34: color.append('orangered')\n",
    "        if i == 44: color.append('r')\n",
    "    return color"
   ]
  },
  {
   "cell_type": "markdown",
   "metadata": {},
   "source": [
    "## Distance distribution\n",
    "\n",
    "Distribution of topological distances"
   ]
  },
  {
   "cell_type": "code",
   "execution_count": null,
   "metadata": {
    "collapsed": false,
    "scrolled": true
   },
   "outputs": [],
   "source": [
    "d_top = data[:,2]\n",
    "plt.plot(sorted(d_top), 'b')\n",
    "plt.xlabel('Networks')\n",
    "plt.ylabel('Distance')\n",
    "plt.title('Topological Distance')\n",
    "plt.show()"
   ]
  },
  {
   "cell_type": "markdown",
   "metadata": {},
   "source": [
    "Distribution of dynamic distances"
   ]
  },
  {
   "cell_type": "code",
   "execution_count": null,
   "metadata": {
    "collapsed": false,
    "scrolled": false
   },
   "outputs": [],
   "source": [
    "d_dyn = data[:,3]\n",
    "plt.xlabel('Networks')\n",
    "plt.ylabel('Distance')\n",
    "plt.title('Dynamical Distance')\n",
    "plt.plot(sorted(d_dyn), 'r') #All distances\n",
    "\n",
    "plt.show()"
   ]
  },
  {
   "cell_type": "markdown",
   "metadata": {},
   "source": [
    "* Does it follows a distribution?"
   ]
  },
  {
   "cell_type": "markdown",
   "metadata": {},
   "source": [
    "Separate by topological distance"
   ]
  },
  {
   "cell_type": "code",
   "execution_count": null,
   "metadata": {
    "collapsed": false
   },
   "outputs": [],
   "source": [
    "for i in range(0, max(data[:,2])): #sort by topological distance\n",
    "    data_i = data[data[:,2]==i]\n",
    "    d_dyn_i = data_i[:,3]\n",
    "    plt.plot(sorted(d_dyn_i), label=str(i))\n",
    "plt.xlabel('Networks')\n",
    "plt.ylabel('Distance')\n",
    "plt.title('Dynamical Distance by topological distance')\n",
    "plt.legend()\n",
    "\n",
    "plt.show()"
   ]
  },
  {
   "cell_type": "markdown",
   "metadata": {},
   "source": [
    "Topological vs dynamic distances"
   ]
  },
  {
   "cell_type": "code",
   "execution_count": null,
   "metadata": {
    "collapsed": false,
    "scrolled": true
   },
   "outputs": [],
   "source": [
    "plt.plot(d_top, d_dyn, 'go')\n",
    "plt.xlabel('Topological Distance')\n",
    "plt.ylabel('Dynamical Distance')\n",
    "plt.title('Topological Vs Dynamical')\n",
    "plt.show()"
   ]
  },
  {
   "cell_type": "markdown",
   "metadata": {},
   "source": [
    "This is confusing, maybe add a third axis and sort in a better way...\n",
    "\n",
    "We'll plot by index, intercalating the numbers, so 1001-1021 -> 11000211"
   ]
  },
  {
   "cell_type": "code",
   "execution_count": null,
   "metadata": {
    "collapsed": false
   },
   "outputs": [],
   "source": [
    "from mpl_toolkits.mplot3d import Axes3D\n",
    "\n",
    "index = edges2index(data)\n",
    "color = edges2motifcolor(data)\n",
    "\n",
    "fig = plt.figure()\n",
    "ax = fig.gca(projection='3d')\n",
    "ax.scatter(d_top, d_dyn, index, c=color)\n",
    "ax.legend('Distances by index')\n",
    "ax.set_xlabel('Topological Distance')\n",
    "ax.set_ylabel('Dynamical Distance')\n",
    "ax.set_zlabel('Indexes')\n",
    "\n",
    "plt.show()"
   ]
  },
  {
   "cell_type": "markdown",
   "metadata": {},
   "source": [
    "Well... Comparisons between same motifs have smaller distances... the rest is a disaster."
   ]
  },
  {
   "cell_type": "markdown",
   "metadata": {},
   "source": [
    "Lets filter to obtain only the edges with topological distance 0 and 2"
   ]
  },
  {
   "cell_type": "code",
   "execution_count": null,
   "metadata": {
    "collapsed": false
   },
   "outputs": [],
   "source": [
    "data0 = data[data[:,2]<=1]\n",
    "\n",
    "index0 = edges2index(data0)\n",
    "color0 = edges2motifcolor(data0)\n",
    "\n",
    "fig = plt.figure()\n",
    "ax = fig.gca(projection='3d')\n",
    "ax.scatter(data0[:,2], data0[:,3], index0, c=color0)\n",
    "ax.legend('D_top 0 by index')\n",
    "ax.set_xlabel('Topological Distance')\n",
    "ax.set_ylabel('Dynamical Distance')\n",
    "ax.set_zlabel('Indexes')\n",
    "\n",
    "plt.show()"
   ]
  },
  {
   "cell_type": "markdown",
   "metadata": {},
   "source": [
    "## Network\n",
    "\n",
    "First,lets create a network\n",
    "\n",
    "Nodes are networks:\n",
    "* name\n",
    "* motif\n",
    "* func _(loop functionality)_\n",
    "* f_color\n",
    "\n",
    "Edges:\n",
    "* w_top\n",
    "* w_dyn\n",
    "* index _(mixed index of nodes)_\n",
    "* m_color _(color of motifs)_"
   ]
  },
  {
   "cell_type": "code",
   "execution_count": null,
   "metadata": {
    "collapsed": false
   },
   "outputs": [],
   "source": [
    "import networkx as nx\n",
    "\n",
    "G = nx.Graph()\n",
    "\n",
    "#first, create nodes with funcionality\n",
    "f = open('Networks_Functionaliy_Results.csv','r')\n",
    "f.readline() #remove header\n",
    "for line in f:\n",
    "    line = line.strip().split(',')\n",
    "    if line[1] == '': #no func\n",
    "        G.add_node(int(line[0]), motif=int(line[0][0]),\n",
    "                  func=line[1], f_color='black')\n",
    "    elif line[1][-1] == 'A': #func A\n",
    "        G.add_node(int(line[0]), motif=int(line[0][0]),\n",
    "                  func=line[1], f_color='red')\n",
    "    elif line[1][-1] == 'B': #func B\n",
    "        G.add_node(int(line[0]), motif=int(line[0][0]),\n",
    "                  func=line[1], f_color='green')\n",
    "f.close()\n",
    "#G.nodes(data=True)\n",
    "\n",
    "#lets add edges, no threshold (yet)\n",
    "for d in zip(data.tolist(), edges2index(data), edges2motifcolor(data)):\n",
    "    G.add_edge(d[0][0], d[0][1], \n",
    "               w_top=d[0][2], w_dyn=d[0][3],\n",
    "               index=d[1], m_color=d[2])\n",
    "\n",
    "#G.nodes(data=True)\n",
    "#G.edges(data=True)"
   ]
  },
  {
   "cell_type": "markdown",
   "metadata": {},
   "source": [
    "Threshold by weight and see component distribution."
   ]
  },
  {
   "cell_type": "markdown",
   "metadata": {},
   "source": [
    "## Dendogram\n",
    "\n",
    "Clustering!\n",
    "\n",
    "First, lets get the matrixes and remove nans. The matrixes are in the order of G.nodes()"
   ]
  },
  {
   "cell_type": "code",
   "execution_count": null,
   "metadata": {
    "collapsed": false,
    "scrolled": true
   },
   "outputs": [],
   "source": [
    "D_top = np.array(nx.to_numpy_matrix(G, weight='w_top', nonedge=None))\n",
    "D_top = np.nan_to_num(D_top)\n",
    "D_dyn = np.array(nx.to_numpy_matrix(G, weight='w_dyn', nonedge=None))\n",
    "D_dyn = np.nan_to_num(D_dyn)"
   ]
  },
  {
   "cell_type": "markdown",
   "metadata": {},
   "source": [
    "Cluster and verify clustering"
   ]
  },
  {
   "cell_type": "code",
   "execution_count": null,
   "metadata": {
    "collapsed": false
   },
   "outputs": [],
   "source": [
    "from scipy.cluster.hierarchy import dendrogram, linkage\n",
    "\n",
    "Z = linkage(D_dyn,'ward')\n",
    "Z\n",
    "\n",
    "#Verify clustering, 1 is ideal\n",
    "from scipy.cluster.hierarchy import cophenet\n",
    "from scipy.spatial.distance import pdist\n",
    "\n",
    "c, coph_dists = cophenet(Z, pdist(D_dyn))\n",
    "c"
   ]
  },
  {
   "cell_type": "markdown",
   "metadata": {},
   "source": [
    "Could be worse. D_dyn is .882; D_top is .415, which is unaceptable. 'Ward' gives best results."
   ]
  },
  {
   "cell_type": "code",
   "execution_count": null,
   "metadata": {
    "collapsed": false
   },
   "outputs": [],
   "source": [
    "plt.figure(figsize=(25, 10))\n",
    "plt.title('Hierarchical Clustering Dendrogram')\n",
    "plt.xlabel('sample index')\n",
    "plt.ylabel('distance')\n",
    "dendrogram(\n",
    "    Z,\n",
    "    labels=G.nodes(),\n",
    "    leaf_rotation=90.,  # rotates the x axis labels\n",
    "    leaf_font_size=8.,  # font size for the x axis labels\n",
    ")\n",
    "plt.show()"
   ]
  },
  {
   "cell_type": "markdown",
   "metadata": {},
   "source": [
    "It gorups by motif, and most (but not all) nets with the same topology end near. I recomend opening the image in new tab for checking.\n",
    "\n",
    "I can add a heatmap, but I'm not sure it would add anything interesting."
   ]
  },
  {
   "cell_type": "markdown",
   "metadata": {},
   "source": [
    "## Loops Functionality \n",
    "\n",
    "It would be worthy to plot all networks with a functionality and compare transition tables"
   ]
  }
 ],
 "metadata": {
  "kernelspec": {
   "display_name": "Python 3",
   "language": "python",
   "name": "python3"
  },
  "language_info": {
   "codemirror_mode": {
    "name": "ipython",
    "version": 3
   },
   "file_extension": ".py",
   "mimetype": "text/x-python",
   "name": "python",
   "nbconvert_exporter": "python",
   "pygments_lexer": "ipython3",
   "version": "3.4.3"
  }
 },
 "nbformat": 4,
 "nbformat_minor": 0
}
