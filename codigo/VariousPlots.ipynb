{
 "cells": [
  {
   "cell_type": "code",
   "execution_count": 1,
   "metadata": {
    "collapsed": true
   },
   "outputs": [],
   "source": [
    "# Import\n",
    "import pickle\n",
    "import numpy as np\n",
    "import networkx as nx\n",
    "import matplotlib.pyplot as plt\n",
    "%matplotlib inline  "
   ]
  },
  {
   "cell_type": "markdown",
   "metadata": {},
   "source": [
    "# Figure 1 D-E"
   ]
  },
  {
   "cell_type": "code",
   "execution_count": 79,
   "metadata": {
    "collapsed": false,
    "scrolled": false
   },
   "outputs": [
    {
     "data": {
      "image/png": "[encoded data removed]",
      "text/plain": [
       "<matplotlib.figure.Figure at 0xa8f1ba6c>"
      ]
     },
     "metadata": {},
     "output_type": "display_data"
    }
   ],
   "source": [
    "fig, ax = plt.subplots()\n",
    "ax.set_yscale('symlog')\n",
    "\n",
    "n2 = [ 9778191,4971299,7172121,3041590,3278611,1352602,1378425,553697,\n",
    "      577638,203982,211400,86985,93152,35197,36342,11536,19481,4783,\n",
    "      7381,1479,2152,1017,1227,355,625,160,170,48,75,18,30,7,6,6,3,0,2,0 ]\n",
    "x2 = range(4, len(n2)+4 )\n",
    "n1 = [ 3800,3120,1280,721,80,0 ]\n",
    "x1 = range (2, len(n1)+2 )\n",
    "ax.plot(x2, n2)\n",
    "ax.plot(x1, n1)\n",
    "ax.plot(1,1, 'or')\n",
    "\n",
    "ax.set_xlim(-1)\n",
    "ax.set_ylim(0, 10**8)\n",
    "\n",
    "#plt.savefig('Fig1D.svg')\n",
    "plt.show()"
   ]
  },
  {
   "cell_type": "code",
   "execution_count": 80,
   "metadata": {
    "collapsed": false
   },
   "outputs": [
    {
     "data": {
      "image/png": "[encoded data removed]",
      "text/plain": [
       "<matplotlib.figure.Figure at 0xa8d4224c>"
      ]
     },
     "metadata": {},
     "output_type": "display_data"
    }
   ],
   "source": [
    "fig, ax = plt.subplots()\n",
    "ax.set_yscale('symlog')\n",
    "\n",
    "s2 = [ 30289359,19002064,4665153,6604937,1328410,979460,174532,62173,\n",
    "      3390,3186,82,11357,39,0 ]\n",
    "x2 = range(1, len(s2)+1)\n",
    "s1 = [ 7680,4680,1400,240,0 ]\n",
    "x1 = range(1, len(s1)+1)\n",
    "ax.plot(x2, s2)\n",
    "ax.plot(x1, s1)\n",
    "ax.plot(1,1, 'or')\n",
    "\n",
    "ax.set_xlim(-1)\n",
    "ax.set_ylim(0, 10**8)\n",
    "\n",
    "#plt.savefig('Fig1E.svg')\n",
    "plt.show()"
   ]
  },
  {
   "cell_type": "markdown",
   "metadata": {},
   "source": [
    "# Figure 1 F-G\n",
    "\n",
    "Mean attr number and mean attr size for 1-PLNs and 2-PLNs with confidence interval.\n",
    "\n",
    "\n",
    "|Number | Mean  | SD    |\n",
    "|-------|-------|-------|\n",
    "| 1-PLN | 2.907 | 0.035 |\n",
    "| 2-PLN | 6.217 | 0.049 |\n",
    "\n",
    "\n",
    "| Size  | Mean  | SD    |\n",
    "|-------|-------|-------|\n",
    "| 1-PLN | 1.493 | 0.012 |\n",
    "| 2-PLN | 1.620 | 0.012 |\n",
    "\n",
    "\n",
    "Load data"
   ]
  },
  {
   "cell_type": "code",
   "execution_count": null,
   "metadata": {
    "collapsed": false,
    "scrolled": true
   },
   "outputs": [],
   "source": [
    "n_mean= [2.907, 6.217]\n",
    "n_sd  = [0.035, 0.049]\n",
    "\n",
    "s_mean= [1.493,1.620]\n",
    "s_sd  = [0.012,0.012]\n",
    "\n",
    "\n",
    "\n",
    "plt.subplot(121)\n",
    "plt.errorbar([1,2], n_mean, yerr=n_sd, linestyle='None', marker='o')\n",
    "plt.xlim([0,4])\n",
    "plt.xticks([1,2,3], [\"1-PLN\", \"2-PLN\",\"\"])\n",
    "plt.ylim([2,7])\n",
    "plt.ylabel(\"Number of attractors\")\n",
    "\n",
    "plt.subplots_adjust(hspace=10)\n",
    "\n",
    "plt.subplot(122)\n",
    "plt.errorbar([1,2], s_mean, yerr=s_sd, linestyle='None', marker='o')\n",
    "plt.xlim([-1,3])\n",
    "plt.xticks([0,1,2], [\"\",\"1-PLN\", \"2-PLN\"])\n",
    "plt.ylim([1.45,1.65])\n",
    "plt.ylabel(\"Mean size of attractors\")\n",
    "\n",
    "#plt.savefig('Fig1FG.svg')\n",
    "plt.show()"
   ]
  },
  {
   "cell_type": "markdown",
   "metadata": {},
   "source": [
    "# Fig 3 A-D\n",
    "\n",
    "Esquema"
   ]
  },
  {
   "cell_type": "code",
   "execution_count": null,
   "metadata": {
    "collapsed": false
   },
   "outputs": [],
   "source": [
    "x = np.random.exponential(5, size=1000) + np.random.poisson(1, size=1000)\n",
    "plt.hist(x, bins=round(max(x)))\n",
    "plt.axvline(np.percentile(x, 90), color='r')\n",
    "plt.show()\n",
    "#max(x), histx\n",
    "\n"
   ]
  },
  {
   "cell_type": "code",
   "execution_count": null,
   "metadata": {
    "collapsed": false
   },
   "outputs": [],
   "source": [
    "from matplotlib.ticker import NullFormatter\n",
    "nullfmt = NullFormatter()         # no labels\n",
    "\n",
    "n = 3\n",
    "x = np.random.exponential(n, size=1000) + np.random.poisson(1, size=1000)\n",
    "y = np.random.exponential(n, size=1000) + np.random.poisson(1, size=1000)\n",
    "# definitions for the axes\n",
    "left, width = 0.1, 0.65\n",
    "bottom, height = 0.1, 0.65\n",
    "bottom_h = left_h = left + width + 0.02\n",
    "\n",
    "rect_scatter = [left, bottom, width, height]\n",
    "rect_histx = [left, bottom_h, width, 0.2]\n",
    "rect_histy = [left_h, bottom, 0.2, height]\n",
    "\n",
    "# start with a rectangular Figure\n",
    "plt.figure(1, figsize=(8, 8))\n",
    "\n",
    "axScatter = plt.axes(rect_scatter)\n",
    "axHistx = plt.axes(rect_histx)\n",
    "axHisty = plt.axes(rect_histy)\n",
    "\n",
    "# no labels\n",
    "axHistx.xaxis.set_major_formatter(nullfmt)\n",
    "axHisty.yaxis.set_major_formatter(nullfmt)\n",
    "\n",
    "# the scatter plot:\n",
    "axScatter.scatter(x, y, color='grey')\n",
    "axScatter.set_xlim([-1, round(max(x))+1])\n",
    "axScatter.set_ylim([-1, round(max(y))+1])\n",
    "axScatter.axvline(0, color='r')\n",
    "axScatter.axhline(0, color='r')\n",
    "axScatter.axvline(1, color='r')\n",
    "axScatter.axhline(1, color='r')\n",
    "axScatter.axvline(np.percentile(x, 90), color='r')\n",
    "axScatter.axhline(np.percentile(y, 90), color='r')\n",
    "axScatter.axvline(max(x), color='r')\n",
    "axScatter.axhline(max(y), color='r')\n",
    "\n",
    "# the histograms\n",
    "axHistx.hist(x, bins=round(max(x)), color='w')\n",
    "axHistx.axvline(np.percentile(x, 90), color='r')\n",
    "axHisty.hist(y, bins=round(max(y)), color='w', orientation=\"horizontal\")\n",
    "axHisty.axhline(np.percentile(y, 90), color='r')\n",
    "\n",
    "\n",
    "axHistx.set_xlim(axScatter.get_xlim())\n",
    "axHisty.set_ylim(axScatter.get_ylim())\n",
    "\n",
    "#plt.savefig('Figures/Fig3/Fig3A.svg')\n",
    "plt.show()"
   ]
  },
  {
   "cell_type": "markdown",
   "metadata": {},
   "source": [
    "* 1-PLN , 2-PLN\n",
    "* Total circuits , Positive/Negative ratio\n",
    "* All, n-s-, n+s-, n-s+, n+s+\n",
    "\n",
    "\n",
    "\n",
    "1PLN-CircuitsTotal.txt\n",
    "ALL 2.58923987052 0.590923905334\n",
    "nmin_smax 2.51282051282 0.593632661682\n",
    "nmax_smax nan nan\n",
    "nmax_smin 2.58461538462 0.604910869272\n",
    "nmin_smin 2.58823529412 0.492152956785\n",
    "\n",
    "\n",
    "1PLN-CircuitsRatio.txt\n",
    "ALL 1.19026237014 0.662715644029\n",
    "nmin_smax 0.810810810811 0.470068300836\n",
    "nmax_smax nan nan\n",
    "nmax_smin 1.6393442623 0.551682579359\n",
    "nmin_smin 1.1724137931 0.633488726582\n",
    "\n",
    "\n",
    "\n",
    "2PLN-CircuitsTotal.txt\n",
    "nmin_smax 15.4763557484 5.77273723456\n",
    "nmax_smax 15.7507331378 5.72124002634\n",
    "nmax_smin 3.89110889111 1.20568536192\n",
    "ALL 12.8019948171 6.96404466068\n",
    "nmin_smin 4.83333333333 2.26691175146\n",
    "\n",
    "2PLN-CircuitsRatio.txt\n",
    "nmin_smax 1.07742578908 1.05264758772\n",
    "nmax_smax 1.39390931237 1.13001587765\n",
    "nmax_smin 2.23908045977 1.17247548857\n",
    "ALL 1.23737763954 1.24063845437\n",
    "nmin_smin 1.5 0.37267799625\n",
    "\n",
    "Load data"
   ]
  },
  {
   "cell_type": "code",
   "execution_count": null,
   "metadata": {
    "collapsed": false
   },
   "outputs": [],
   "source": [
    "PLN1_CircuitsTotal={\n",
    "\t'All':\t2.589,\n",
    "\t'n-s-':\t2.588,\n",
    "\t'n-s+':\t2.512,\n",
    "\t'n+s-':\t2.584,\n",
    "\t'n+s+':\tNone,\n",
    "\t}\n",
    "\n",
    "PLN1_CircuitsRatio={\n",
    "\t'All':\t1.190,\n",
    "\t'n-s-':\t1.172,\n",
    "\t'n-s+':\t0.810,\n",
    "\t'n+s-':\t1.639,\n",
    "\t'n+s+':\tNone,\n",
    "\t}\n",
    "\n",
    "PLN2_CircuitsTotal={\n",
    "\t'All':\t12.801,\n",
    "\t'n-s-':\t4.833,\n",
    "\t'n-s+':\t15.476,\n",
    "\t'n+s-':\t3.891,\n",
    "\t'n+s+':\t15.750,\n",
    "\t}\n",
    "\n",
    "PLN2_CircuitsRatio={\n",
    "\t'All':\t1.237,\n",
    "\t'n-s-':\t1.500,\n",
    "\t'n-s+':\t1.077,\n",
    "\t'n+s-':\t2.239,\n",
    "\t'n+s+':\t1.393,\n",
    "\t}"
   ]
  },
  {
   "cell_type": "code",
   "execution_count": null,
   "metadata": {
    "collapsed": true
   },
   "outputs": [],
   "source": [
    "def dict2array(d):\n",
    "    data = [\n",
    "        [d['All'] for i in range(5)],\n",
    "        [d['All'], d['n-s-'], d['All'], d['n+s-'], d['All']],\n",
    "        [d['All'] for i in range(5)],\n",
    "        [d['All'], d['n-s+'], d['All'], d['n+s+'], d['All']],\n",
    "        [d['All'] for i in range(5)],\n",
    "    ]\n",
    "    return np.array(data)"
   ]
  },
  {
   "cell_type": "code",
   "execution_count": null,
   "metadata": {
    "collapsed": false,
    "scrolled": false
   },
   "outputs": [],
   "source": [
    "t = list(PLN1_CircuitsTotal.values()) + list(PLN2_CircuitsTotal.values())\n",
    "t_min = 0#min(filter(None, t))\n",
    "t_max = max(filter(None, t))+1\n",
    "r =list(PLN1_CircuitsRatio.values()) + list(PLN2_CircuitsRatio.values())\n",
    "r_min = min(filter(None, r))\n",
    "r_max = max(filter(None, r))\n",
    "\n",
    "#plt.figure(1, figsize=(8, 8))\n",
    "\n",
    "\n",
    "plt.subplot(221)\n",
    "heatmap = dict2array(PLN1_CircuitsTotal)\n",
    "plt.pcolor(heatmap,  \n",
    "           edgecolors='k', linewidths=2, \n",
    "           cmap=\"Blues\", vmin=t_min, vmax=t_max\n",
    "          )\n",
    "plt.colorbar()\n",
    "plt.axis('off')\n",
    "\n",
    "plt.subplot(222)\n",
    "heatmap = dict2array(PLN1_CircuitsRatio)\n",
    "plt.pcolor(heatmap,  \n",
    "           edgecolors='k', linewidths=2, \n",
    "           cmap=\"Greens\", vmin=r_min, vmax=r_max\n",
    "          )\n",
    "plt.colorbar()\n",
    "plt.axis('off')\n",
    "\n",
    "plt.subplot(223)\n",
    "heatmap = dict2array(PLN2_CircuitsTotal)\n",
    "plt.pcolor(heatmap,  \n",
    "           edgecolors='k', linewidths=2, \n",
    "           cmap=\"Blues\", vmin=t_min, vmax=t_max\n",
    "          )\n",
    "plt.colorbar()\n",
    "plt.axis('off')\n",
    "\n",
    "plt.subplot(224)\n",
    "heatmap = dict2array(PLN2_CircuitsRatio)\n",
    "plt.pcolor(heatmap,  \n",
    "           edgecolors='k', linewidths=2, \n",
    "           cmap=\"Greens\", vmin=r_min, vmax=r_max\n",
    "          )\n",
    "plt.colorbar()\n",
    "plt.axis('off')\n",
    "\n",
    "#plt.savefig('Figures/Fig3/Fig3AD.svg')\n",
    "plt.show()"
   ]
  },
  {
   "cell_type": "markdown",
   "metadata": {},
   "source": [
    "# Figure 3 E-F\n",
    "\n",
    "Functionalities\n",
    "\n",
    "2PLN $= 14.24 \\pm 0.199$\n",
    "\n",
    "2-PLN-E $= 2.36 \\pm 0.146$).\n",
    "\n",
    "Topologies\n",
    "\n",
    "2-PLN ($1.46 \\pm 0.010$)  \n",
    "\n",
    "2-PLN-E ($1.43 \\pm 0.044$)\n",
    "\n",
    "2-PLN-EF ($2.60 \\pm 0.060$)"
   ]
  },
  {
   "cell_type": "markdown",
   "metadata": {},
   "source": [
    "# Figure 4 C\n",
    "\n",
    "2-PLNs produced the target attractors of a pathway variant containing a different pathway variant in its structure.\n",
    "\n",
    "PLN | Variant\n",
    "----|--------\n",
    "1-PLN | 0%\n",
    "2-PLN radius 1 | 0%\n",
    "2-PLN radius 2 | 0%\n",
    "2-PLN radius 3 | 1.25-1.42%\n",
    "2-PLN radius 4 | 1.62-1.99%\n",
    "2-PLN radius 5 | 2.12-2.71%"
   ]
  },
  {
   "cell_type": "code",
   "execution_count": 19,
   "metadata": {
    "collapsed": false
   },
   "outputs": [
    {
     "data": {
      "text/plain": [
       "([0.0, 0.0, 0.0, 1.335, 1.8050000000000002, 2.415],\n",
       " [0.0,\n",
       "  0.0,\n",
       "  0.0,\n",
       "  0.08499999999999996,\n",
       "  0.18499999999999994,\n",
       "  0.29499999999999993])"
      ]
     },
     "execution_count": 19,
     "metadata": {},
     "output_type": "execute_result"
    }
   ],
   "source": [
    "r_min = [0,0,0,1.25,1.62,2.12]\n",
    "r_max = [0,0,0,1.42,1.99,2.71]\n",
    "r_ave = [(i+j)/2 for i, j in zip(r_min, r_max)]\n",
    "r_std = [(j-i)/2 for i, j in zip(r_min, r_max)]\n",
    "r_ave, r_std"
   ]
  },
  {
   "cell_type": "code",
   "execution_count": 33,
   "metadata": {
    "collapsed": false
   },
   "outputs": [
    {
     "name": "stderr",
     "output_type": "stream",
     "text": [
      "/usr/lib/python3/dist-packages/matplotlib/collections.py:549: FutureWarning: elementwise comparison failed; returning scalar instead, but in the future will perform elementwise comparison\n",
      "  if self._edgecolors == 'face':\n"
     ]
    },
    {
     "data": {
      "image/png": "[encoded data removed]",
      "text/plain": [
       "<matplotlib.figure.Figure at 0xaa21362c>"
      ]
     },
     "metadata": {},
     "output_type": "display_data"
    }
   ],
   "source": [
    "r_min = [0,0,0,1.25,1.62,2.12]\n",
    "r_max = [0,0,0,1.42,1.99,2.71]\n",
    "r_ave = [(i+j)/2 for i, j in zip(r_min, r_max)]\n",
    "r_std = [(j-i)/2 for i, j in zip(r_min, r_max)]\n",
    "\n",
    "#plt.plot(range(1,len(r_ave)), r_ave[1:], 'k')\n",
    "plt.errorbar(range(1,len(r_ave)), r_ave[1:], r_std[1:], marker='o')\n",
    "#plt.plot(range(1,len(r_ave)), r_ave[1:], 'ob')\n",
    "plt.plot(0, 0, 'or')\n",
    "\n",
    "plt.axis([-1, len(r_ave), -.1, 3.1])\n",
    "labels = ['', '1-PLN', '1', '2', '3', '4', '5', '']\n",
    "plt.xticks(range(-1,len(r_ave)), labels)\n",
    "\n",
    "plt.xlabel(\"2-PLN radius\")\n",
    "plt.ylabel(\"Wrong inference percentage\")\n",
    "\n",
    "#plt.savefig('Figures/Fig4/Fig4C.svg')\n",
    "plt.show()"
   ]
  }
 ],
 "metadata": {
  "kernelspec": {
   "display_name": "Python 3",
   "language": "python",
   "name": "python3"
  },
  "language_info": {
   "codemirror_mode": {
    "name": "ipython",
    "version": 3
   },
   "file_extension": ".py",
   "mimetype": "text/x-python",
   "name": "python",
   "nbconvert_exporter": "python",
   "pygments_lexer": "ipython3",
   "version": "3.4.3"
  }
 },
 "nbformat": 4,
 "nbformat_minor": 0
}
